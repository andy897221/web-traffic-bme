{
 "cells": [
  {
   "cell_type": "code",
   "execution_count": 20,
   "metadata": {
    "ExecuteTime": {
     "end_time": "2022-10-11T08:24:59.737200Z",
     "start_time": "2022-10-11T08:24:59.732195Z"
    }
   },
   "outputs": [],
   "source": [
    "import os\n",
    "import json\n",
    "from matplotlib import pyplot as plt\n",
    "import numpy as np\n",
    "import pandas as pd\n",
    "from collections import defaultdict\n",
    "import collections\n",
    "from datetime import datetime\n",
    "from collections import Counter\n",
    "import seaborn as sns\n",
    "from statistics import median\n",
    "from statistics import mean\n",
    "import matplotlib.dates as mdates\n",
    "import matplotlib.patches as mpatches"
   ]
  },
  {
   "cell_type": "code",
   "execution_count": 21,
   "metadata": {
    "ExecuteTime": {
     "end_time": "2022-10-11T08:24:59.955104Z",
     "start_time": "2022-10-11T08:24:59.867024Z"
    }
   },
   "outputs": [],
   "source": [
    "# obscure all footprint (\"data\" field) in context = \"/login\", \"/profile\", and \"createPost\"\n",
    "filePath = \"userLog (5 May 22)\"\n",
    "savePath = \"userLog (5 May 22, obscured)\"\n",
    "for i in os.listdir(filePath):\n",
    "    data = \"\"\n",
    "    with open(filePath+\"/\"+i, \"r\") as f:\n",
    "        for line in f.readlines():\n",
    "            jsonData = json.loads(line)\n",
    "            if jsonData['context'] == \"/login\" or jsonData['context'] == \"/profile\" or jsonData['context'] == \"createPost\":\n",
    "                jsonData['data'] = {\"text\": \"data-obscured\", \"desc\": \"data-obscured\"}\n",
    "            data += json.dumps(jsonData)+\"\\n\"\n",
    "    with open(savePath+\"/\"+i, \"w\") as f:\n",
    "        f.write(data)"
   ]
  },
  {
   "cell_type": "code",
   "execution_count": 22,
   "metadata": {
    "ExecuteTime": {
     "end_time": "2022-10-11T08:25:00.192321Z",
     "start_time": "2022-10-11T08:25:00.018163Z"
    }
   },
   "outputs": [],
   "source": [
    "filePath = \"userLog (5 May 22, obscured)\"\n",
    "rawDumps = []\n",
    "for i in os.listdir(filePath):\n",
    "    with open(filePath+\"/\"+i, 'r') as f:\n",
    "        rawDumps += [json.loads(line) for line in f.read().splitlines()]"
   ]
  },
  {
   "cell_type": "code",
   "execution_count": 23,
   "metadata": {
    "ExecuteTime": {
     "end_time": "2022-10-11T08:25:00.617091Z",
     "start_time": "2022-10-11T08:25:00.601076Z"
    },
    "scrolled": true
   },
   "outputs": [
    {
     "data": {
      "text/plain": [
       "{'id': 0,\n",
       " 'dateTime': '2021-10-27 16:09:58.206',\n",
       " 'isWeb': 1,\n",
       " 'tmpUserID': 10,\n",
       " 'userID': None,\n",
       " 'context': '/',\n",
       " 'data': [],\n",
       " 'action': 'nav'}"
      ]
     },
     "execution_count": 23,
     "metadata": {},
     "output_type": "execute_result"
    }
   ],
   "source": [
    "rawDumps[0]"
   ]
  },
  {
   "cell_type": "code",
   "execution_count": 24,
   "metadata": {
    "ExecuteTime": {
     "end_time": "2022-10-11T08:25:01.367641Z",
     "start_time": "2022-10-11T08:25:01.361635Z"
    },
    "scrolled": true
   },
   "outputs": [
    {
     "name": "stdout",
     "output_type": "stream",
     "text": [
      "{'textSelected', 'changeTab', 'textInput', 'popping', 'click', 'nav', 'textfieldFocus', 'initTab'}\n",
      "{'Actin-DAPI.pdf', 'Agree', 'BTS-TELEMG multichannel electro-myographic system', 'My Profile', 'Discard post and exit?', 'Lab Access Guide', 'Prototyping Tutorial', 'Cell Area Calculations', 'Gelatin coating Protocol.pdf', 'TEM imaging.pdf', 'Icons.arrow_back', 'Welcome to the forum of BME Student Database', 'Microplate Reader (Synergy)', 'data-obscured', 'Contact', 'Facilities', 'Centrifuge (NUWIND)', 'Picogreen Standard Curve', 'Licensed IDEs (Matlab; VS Studio)', 'AMTI force plates for gait analysis', 'Select Equipment:', 'Username changed successfully.', 'General Lab Access Guide', 'Login', 'Go To Booking', 'Select Date:', 'Select Time (Maximum 3 hours per day):', 'Circuit Development Toolkits', 'Osteogenesis Assay.pdf', 'Arduino Web Tutorial', 'VS Studio Free', 'Yes', 'Z to A', 'Other Labs', 'Experiment Protocols', 'ImageJ viability and image merging.pdf', 'Booking', 'Check Protocol', 'Remote Desktop', 'Create New Post', 'Cell viability and image merging', 'Gelatin Coating', 'Icons.cancel', 'Mechanical Testing of hydrogel', 'TEM Imaging', 'MeHA Synthesis', 'Nikon Eclipse TS2R', 'Icons.menu', 'Bioprinter (SUNP CPD1)', 'Alkaline Phosphatase Assay', 'Actin DAPI Staining', 'Alcain Blue Staining', 'Forum', 'Laboratories of the PolyU BME Database', 'Okay', 'Osteogenesis Assay', 'A to Z', 'Icons.thumb_up', 'Vicon 370 3-dimensional motion analysis system', 'Analytical Balance (ME204)'}\n",
      "{1}\n"
     ]
    }
   ],
   "source": [
    "print(set([i['action'] for i in rawDumps])) # all possible actions\n",
    "print(set([i['data']['text'] for i in rawDumps if i['action'] == 'click'])) # all possible clicks\n",
    "print(set([i['isWeb'] for i in rawDumps]))"
   ]
  },
  {
   "cell_type": "code",
   "execution_count": 43,
   "metadata": {
    "ExecuteTime": {
     "end_time": "2022-10-11T08:38:53.277590Z",
     "start_time": "2022-10-11T08:38:53.004343Z"
    },
    "hide_input": false,
    "scrolled": true
   },
   "outputs": [
    {
     "data": {
      "text/html": [
       "<div>\n",
       "<style scoped>\n",
       "    .dataframe tbody tr th:only-of-type {\n",
       "        vertical-align: middle;\n",
       "    }\n",
       "\n",
       "    .dataframe tbody tr th {\n",
       "        vertical-align: top;\n",
       "    }\n",
       "\n",
       "    .dataframe thead th {\n",
       "        text-align: right;\n",
       "    }\n",
       "</style>\n",
       "<table border=\"1\" class=\"dataframe\">\n",
       "  <thead>\n",
       "    <tr style=\"text-align: right;\">\n",
       "      <th></th>\n",
       "      <th>id</th>\n",
       "      <th>dt</th>\n",
       "      <th>date</th>\n",
       "      <th>time</th>\n",
       "      <th>tmpUserID</th>\n",
       "      <th>userID</th>\n",
       "      <th>context</th>\n",
       "      <th>fullContext</th>\n",
       "      <th>data-text</th>\n",
       "      <th>action</th>\n",
       "      <th>email</th>\n",
       "      <th>hasReg</th>\n",
       "      <th>isInitial</th>\n",
       "      <th>sessID</th>\n",
       "    </tr>\n",
       "  </thead>\n",
       "  <tbody>\n",
       "    <tr>\n",
       "      <th>0</th>\n",
       "      <td>0</td>\n",
       "      <td>2021-10-26 10:19:15.928</td>\n",
       "      <td>2021-10-26</td>\n",
       "      <td>10:19:15.928</td>\n",
       "      <td>4</td>\n",
       "      <td>False</td>\n",
       "      <td>/</td>\n",
       "      <td>/</td>\n",
       "      <td>False</td>\n",
       "      <td>nav</td>\n",
       "      <td>data-obscured</td>\n",
       "      <td>True</td>\n",
       "      <td>True</td>\n",
       "      <td>0</td>\n",
       "    </tr>\n",
       "    <tr>\n",
       "      <th>1</th>\n",
       "      <td>0</td>\n",
       "      <td>2021-10-27 05:04:25.722</td>\n",
       "      <td>2021-10-27</td>\n",
       "      <td>05:04:25.722</td>\n",
       "      <td>7</td>\n",
       "      <td>False</td>\n",
       "      <td>/</td>\n",
       "      <td>/</td>\n",
       "      <td>False</td>\n",
       "      <td>nav</td>\n",
       "      <td>data-obscured</td>\n",
       "      <td>True</td>\n",
       "      <td>True</td>\n",
       "      <td>1</td>\n",
       "    </tr>\n",
       "    <tr>\n",
       "      <th>2</th>\n",
       "      <td>1</td>\n",
       "      <td>2021-10-27 05:04:27.782</td>\n",
       "      <td>2021-10-27</td>\n",
       "      <td>05:04:27.782</td>\n",
       "      <td>7</td>\n",
       "      <td>False</td>\n",
       "      <td>/</td>\n",
       "      <td>/</td>\n",
       "      <td>Forum</td>\n",
       "      <td>click</td>\n",
       "      <td>data-obscured</td>\n",
       "      <td>True</td>\n",
       "      <td>True</td>\n",
       "      <td>1</td>\n",
       "    </tr>\n",
       "    <tr>\n",
       "      <th>3</th>\n",
       "      <td>2</td>\n",
       "      <td>2021-10-27 05:04:27.794</td>\n",
       "      <td>2021-10-27</td>\n",
       "      <td>05:04:27.794</td>\n",
       "      <td>7</td>\n",
       "      <td>False</td>\n",
       "      <td>/discuss</td>\n",
       "      <td>/discuss</td>\n",
       "      <td>False</td>\n",
       "      <td>nav</td>\n",
       "      <td>data-obscured</td>\n",
       "      <td>True</td>\n",
       "      <td>True</td>\n",
       "      <td>1</td>\n",
       "    </tr>\n",
       "    <tr>\n",
       "      <th>4</th>\n",
       "      <td>3</td>\n",
       "      <td>2021-10-27 05:04:29.522</td>\n",
       "      <td>2021-10-27</td>\n",
       "      <td>05:04:29.522</td>\n",
       "      <td>7</td>\n",
       "      <td>False</td>\n",
       "      <td>/discuss</td>\n",
       "      <td>/discuss</td>\n",
       "      <td>Laboratories of the PolyU BME Database</td>\n",
       "      <td>click</td>\n",
       "      <td>data-obscured</td>\n",
       "      <td>True</td>\n",
       "      <td>True</td>\n",
       "      <td>1</td>\n",
       "    </tr>\n",
       "    <tr>\n",
       "      <th>...</th>\n",
       "      <td>...</td>\n",
       "      <td>...</td>\n",
       "      <td>...</td>\n",
       "      <td>...</td>\n",
       "      <td>...</td>\n",
       "      <td>...</td>\n",
       "      <td>...</td>\n",
       "      <td>...</td>\n",
       "      <td>...</td>\n",
       "      <td>...</td>\n",
       "      <td>...</td>\n",
       "      <td>...</td>\n",
       "      <td>...</td>\n",
       "      <td>...</td>\n",
       "    </tr>\n",
       "    <tr>\n",
       "      <th>859</th>\n",
       "      <td>0</td>\n",
       "      <td>2022-04-26 14:25:43.215</td>\n",
       "      <td>2022-04-26</td>\n",
       "      <td>14:25:43.215</td>\n",
       "      <td>81</td>\n",
       "      <td>False</td>\n",
       "      <td>/</td>\n",
       "      <td>/</td>\n",
       "      <td>False</td>\n",
       "      <td>nav</td>\n",
       "      <td>data-obscured</td>\n",
       "      <td>False</td>\n",
       "      <td>True</td>\n",
       "      <td>140</td>\n",
       "    </tr>\n",
       "    <tr>\n",
       "      <th>860</th>\n",
       "      <td>1</td>\n",
       "      <td>2022-04-26 14:25:47.141</td>\n",
       "      <td>2022-04-26</td>\n",
       "      <td>14:25:47.141</td>\n",
       "      <td>81</td>\n",
       "      <td>False</td>\n",
       "      <td>Remote Desktop</td>\n",
       "      <td>/</td>\n",
       "      <td>Remote Desktop</td>\n",
       "      <td>nav</td>\n",
       "      <td>data-obscured</td>\n",
       "      <td>False</td>\n",
       "      <td>True</td>\n",
       "      <td>140</td>\n",
       "    </tr>\n",
       "    <tr>\n",
       "      <th>861</th>\n",
       "      <td>0</td>\n",
       "      <td>2022-04-29 16:53:29.640</td>\n",
       "      <td>2022-04-29</td>\n",
       "      <td>16:53:29.640</td>\n",
       "      <td>80</td>\n",
       "      <td>False</td>\n",
       "      <td>/</td>\n",
       "      <td>/</td>\n",
       "      <td>False</td>\n",
       "      <td>nav</td>\n",
       "      <td>data-obscured</td>\n",
       "      <td>False</td>\n",
       "      <td>False</td>\n",
       "      <td>141</td>\n",
       "    </tr>\n",
       "    <tr>\n",
       "      <th>862</th>\n",
       "      <td>1</td>\n",
       "      <td>2022-04-29 16:53:33.976</td>\n",
       "      <td>2022-04-29</td>\n",
       "      <td>16:53:33.976</td>\n",
       "      <td>80</td>\n",
       "      <td>False</td>\n",
       "      <td>Remote Desktop</td>\n",
       "      <td>/</td>\n",
       "      <td>Remote Desktop</td>\n",
       "      <td>nav</td>\n",
       "      <td>data-obscured</td>\n",
       "      <td>False</td>\n",
       "      <td>False</td>\n",
       "      <td>141</td>\n",
       "    </tr>\n",
       "    <tr>\n",
       "      <th>863</th>\n",
       "      <td>0</td>\n",
       "      <td>2022-05-23 16:00:04.747</td>\n",
       "      <td>2022-05-23</td>\n",
       "      <td>16:00:04.747</td>\n",
       "      <td>83</td>\n",
       "      <td>False</td>\n",
       "      <td>/</td>\n",
       "      <td>/</td>\n",
       "      <td>False</td>\n",
       "      <td>nav</td>\n",
       "      <td>data-obscured</td>\n",
       "      <td>False</td>\n",
       "      <td>True</td>\n",
       "      <td>142</td>\n",
       "    </tr>\n",
       "  </tbody>\n",
       "</table>\n",
       "<p>864 rows × 14 columns</p>\n",
       "</div>"
      ],
      "text/plain": [
       "     id                       dt        date          time  tmpUserID userID  \\\n",
       "0     0  2021-10-26 10:19:15.928  2021-10-26  10:19:15.928          4  False   \n",
       "1     0  2021-10-27 05:04:25.722  2021-10-27  05:04:25.722          7  False   \n",
       "2     1  2021-10-27 05:04:27.782  2021-10-27  05:04:27.782          7  False   \n",
       "3     2  2021-10-27 05:04:27.794  2021-10-27  05:04:27.794          7  False   \n",
       "4     3  2021-10-27 05:04:29.522  2021-10-27  05:04:29.522          7  False   \n",
       "..   ..                      ...         ...           ...        ...    ...   \n",
       "859   0  2022-04-26 14:25:43.215  2022-04-26  14:25:43.215         81  False   \n",
       "860   1  2022-04-26 14:25:47.141  2022-04-26  14:25:47.141         81  False   \n",
       "861   0  2022-04-29 16:53:29.640  2022-04-29  16:53:29.640         80  False   \n",
       "862   1  2022-04-29 16:53:33.976  2022-04-29  16:53:33.976         80  False   \n",
       "863   0  2022-05-23 16:00:04.747  2022-05-23  16:00:04.747         83  False   \n",
       "\n",
       "            context fullContext                               data-text  \\\n",
       "0                 /           /                                   False   \n",
       "1                 /           /                                   False   \n",
       "2                 /           /                                   Forum   \n",
       "3          /discuss    /discuss                                   False   \n",
       "4          /discuss    /discuss  Laboratories of the PolyU BME Database   \n",
       "..              ...         ...                                     ...   \n",
       "859               /           /                                   False   \n",
       "860  Remote Desktop           /                          Remote Desktop   \n",
       "861               /           /                                   False   \n",
       "862  Remote Desktop           /                          Remote Desktop   \n",
       "863               /           /                                   False   \n",
       "\n",
       "    action          email  hasReg  isInitial  sessID  \n",
       "0      nav  data-obscured    True       True       0  \n",
       "1      nav  data-obscured    True       True       1  \n",
       "2    click  data-obscured    True       True       1  \n",
       "3      nav  data-obscured    True       True       1  \n",
       "4    click  data-obscured    True       True       1  \n",
       "..     ...            ...     ...        ...     ...  \n",
       "859    nav  data-obscured   False       True     140  \n",
       "860    nav  data-obscured   False       True     140  \n",
       "861    nav  data-obscured   False      False     141  \n",
       "862    nav  data-obscured   False      False     141  \n",
       "863    nav  data-obscured   False       True     142  \n",
       "\n",
       "[864 rows x 14 columns]"
      ]
     },
     "execution_count": 43,
     "metadata": {},
     "output_type": "execute_result"
    }
   ],
   "source": [
    "# convert to table\n",
    "df = defaultdict(list)\n",
    "for record in rawDumps:\n",
    "    if record['action'] != 'click' and record['action'] != 'nav': continue\n",
    "    #if record['dateTime'].split(\" \")[0] == '2021-10-26': continue    \n",
    "    df['id'].append(record['id'])\n",
    "    df['dt'].append(record['dateTime'])\n",
    "    df['date'].append(record['dateTime'].split(\" \")[0])\n",
    "    df['time'].append(record['dateTime'].split(\" \")[1])\n",
    "    df['tmpUserID'].append(record['tmpUserID'])\n",
    "    df['userID'].append(record['userID'])\n",
    "    df['context'].append(False if record['context'] is None else record['context'].split(\"?\")[0])\n",
    "    df['fullContext'].append(record['context'])\n",
    "    if record['action'] == 'nav':\n",
    "        df['data-text'].append(False)\n",
    "    else:\n",
    "        df['data-text'].append(record['data']['text'])    \n",
    "    df['action'].append(record['action'])\n",
    "    #df['email'].append(None if record['tmpUserID'] not in userMailMapping else userMailMapping[record['tmpUserID']])\n",
    "    df['email'].append('data-obscured')\n",
    "    \n",
    "df = pd.DataFrame(df)\n",
    "\n",
    "# data cleaning\n",
    "df.fillna(False, inplace=True)\n",
    "for userID in set(df['userID']):\n",
    "    if userID == False: continue\n",
    "    allTmpUserIDs = list(set(df[df['userID'] == userID]['tmpUserID']))\n",
    "    for tmpUserID in allTmpUserIDs:\n",
    "        df['tmpUserID'].replace(tmpUserID, allTmpUserIDs[0], inplace=True)\n",
    "#df = df[df['tmpUserID'] != 33]\n",
    "\n",
    "# clean also those somehow missing id=0 (one shouldn't be able to skip initial session logging)\n",
    "for userID in set(df['tmpUserID']):\n",
    "    if 0 not in set(df[df['tmpUserID'] == userID]['id'].tolist()):\n",
    "        df = df[df['tmpUserID'] != userID]\n",
    "\n",
    "# add isReg col\n",
    "allTmpUserID = list(set(df['tmpUserID']))\n",
    "hasReg = [True if len(set(df[df['tmpUserID'] == tmpID]['userID'])) > 1 else False for tmpID in allTmpUserID]\n",
    "hasReg = dict(zip(allTmpUserID, hasReg))\n",
    "hasRegCol = [hasReg[tmpUserID] for tmpUserID in df['tmpUserID'].tolist()]\n",
    "df['hasReg'] = hasRegCol\n",
    "df.sort_values(by=['dt'], inplace=True, ignore_index=True)\n",
    "\n",
    "# add initialVisit col\n",
    "initialVisit = []\n",
    "for tmpUserID in allTmpUserID:\n",
    "    sessStartIs = df[(df['tmpUserID'] == tmpUserID) & (df['id'] == 0)].index.values.tolist()\n",
    "    if len(sessStartIs) == 1: \n",
    "        initialVisit += df[df['tmpUserID'] == tmpUserID].index.values.tolist()\n",
    "    else:\n",
    "        thresI = sessStartIs[1]\n",
    "        initialVisit += df[(df['tmpUserID'] == tmpUserID) & (df.index < thresI)].index.values.tolist()\n",
    "initialVisit = set(initialVisit)\n",
    "isInitial = [True if i in initialVisit else False for i in range(len(df))]\n",
    "df['isInitial'] = isInitial\n",
    "\n",
    "# add sess\n",
    "sessID = []\n",
    "isInSess = {} # to add session id\n",
    "curMaxSessId = 0\n",
    "for i, row in df.iterrows():\n",
    "    if row['id'] == 0:\n",
    "        isInSess[row['tmpUserID']] = curMaxSessId\n",
    "        curMaxSessId += 1\n",
    "    if row['tmpUserID'] not in isInSess: continue\n",
    "    sessID.append(isInSess[row['tmpUserID']])\n",
    "df['sessID'] = sessID\n",
    "\n",
    "# define remote desktop as nav\n",
    "for i in df.index:\n",
    "    if df.iloc[i]['data-text'] == 'Remote Desktop':\n",
    "        df.at[i, 'context'] = 'Remote Desktop'\n",
    "        df.at[i, 'action'] = 'nav'\n",
    "\n",
    "df"
   ]
  },
  {
   "cell_type": "code",
   "execution_count": 44,
   "metadata": {
    "ExecuteTime": {
     "end_time": "2022-10-11T08:38:56.359522Z",
     "start_time": "2022-10-11T08:38:56.352516Z"
    }
   },
   "outputs": [
    {
     "name": "stdout",
     "output_type": "stream",
     "text": [
      "{False, 1.0, 2.0, 3.0, 4.0, 5.0, 6.0, 7.0, 8.0}\n",
      "{False, '/discuss', '/info', '/contact', '/booking', '/profile', '/createPost', '/post', 'Remote Desktop', '/pdfview', '/', '/login'}\n",
      "67\n",
      "74\n"
     ]
    }
   ],
   "source": [
    "print(set(df['userID']))\n",
    "print(set(df['context']))\n",
    "print(len(set(df['tmpUserID'])))\n",
    "print(len(df[df['data-text'] == 'Remote Desktop']))"
   ]
  },
  {
   "cell_type": "markdown",
   "metadata": {},
   "source": [
    "# statistics"
   ]
  },
  {
   "cell_type": "code",
   "execution_count": 45,
   "metadata": {
    "ExecuteTime": {
     "end_time": "2022-10-11T08:38:57.476240Z",
     "start_time": "2022-10-11T08:38:57.457231Z"
    },
    "scrolled": true
   },
   "outputs": [
    {
     "name": "stdout",
     "output_type": "stream",
     "text": [
      "['2021-10-26', '2021-10-27', '2021-10-28', '2021-10-29', '2021-10-31', '2021-11-01', '2021-11-02', '2021-11-03', '2021-11-05', '2021-11-08', '2021-11-09', '2021-11-10', '2021-11-11', '2021-11-12', '2021-11-14', '2021-11-15', '2021-11-16', '2021-11-19', '2021-11-21', '2021-11-23', '2021-11-26', '2021-12-02', '2021-12-09', '2021-12-13', '2021-12-16', '2021-12-28', '2022-01-06', '2022-01-07', '2022-01-12', '2022-01-13', '2022-01-14', '2022-01-15', '2022-01-16', '2022-01-17', '2022-01-18', '2022-01-19', '2022-01-20', '2022-01-23', '2022-01-24', '2022-01-26', '2022-02-09', '2022-02-11', '2022-02-21', '2022-04-14', '2022-04-15', '2022-04-19', '2022-04-24', '2022-04-26', '2022-04-29', '2022-05-23'] 50\n"
     ]
    }
   ],
   "source": [
    "# all logged date\n",
    "tmp = sorted(set(df[df['id'] == 0]['date']))\n",
    "print(tmp, len(tmp))"
   ]
  },
  {
   "cell_type": "markdown",
   "metadata": {},
   "source": [
    "# statistics for publication"
   ]
  },
  {
   "cell_type": "code",
   "execution_count": 46,
   "metadata": {
    "ExecuteTime": {
     "end_time": "2022-10-11T08:38:58.315917Z",
     "start_time": "2022-10-11T08:38:58.300903Z"
    }
   },
   "outputs": [],
   "source": [
    "def get_sorted_dur(df):\n",
    "    allDurations = [] # each session, in minutes\n",
    "    for tmpUserID in set(df['tmpUserID']):\n",
    "        user_df = df[df['tmpUserID'] == tmpUserID]\n",
    "        user_df.sort_values(by=['dt'], inplace=True)\n",
    "        user_dts, user_ids = user_df['dt'].tolist(), user_df['id'].tolist()\n",
    "        checkPts = [i for i in range(len(user_ids)) if user_ids[i] == 0]\n",
    "        # get duration of each session\n",
    "        user_dts = [datetime.strptime(dt.split(\".\")[0], '%Y-%m-%d %H:%M:%S') for dt in user_dts] # convert to dt\n",
    "        for i in range(len(checkPts)): # get diff in start & end of each session: duration\n",
    "            if i == len(checkPts)-1:\n",
    "                startDT, endDT = user_dts[checkPts[i]], user_dts[-1]\n",
    "            else:\n",
    "                startDT, endDT = user_dts[checkPts[i]], user_dts[checkPts[i+1]-1]\n",
    "            allDurations.append(int((endDT-startDT).total_seconds()))\n",
    "    x = np.asarray(sorted(allDurations))\n",
    "    return x"
   ]
  },
  {
   "cell_type": "code",
   "execution_count": 47,
   "metadata": {
    "ExecuteTime": {
     "end_time": "2022-10-11T08:38:58.737057Z",
     "start_time": "2022-10-11T08:38:58.681006Z"
    }
   },
   "outputs": [
    {
     "name": "stdout",
     "output_type": "stream",
     "text": [
      "sessNum: 143, bounce rate: 0.3076923076923077, +1 bounce rate: 0.23076923076923078\n"
     ]
    }
   ],
   "source": [
    "# bounce rate: exit immediately after front page\n",
    "# single-page visit: exit only one page visit\n",
    "# check the length of each session then know (click = single-page visit = length 1, bounce rate = length 0)\n",
    "sessNum = len(set(df['sessID'].tolist()))\n",
    "bounceCount, singleCount = 0, 0\n",
    "sessCount = len(set(df['sessID'].tolist()))\n",
    "for sess in set(df['sessID'].tolist()):\n",
    "    sessLen = len(df[df['sessID'] == sess].index.tolist())\n",
    "    if sessLen == 1: bounceCount += 1\n",
    "    if sessLen == 2: singleCount += 1\n",
    "print(\"sessNum: {}, bounce rate: {}, +1 bounce rate: {}\".format(sessNum, bounceCount/sessCount, singleCount/sessCount))"
   ]
  },
  {
   "cell_type": "code",
   "execution_count": 48,
   "metadata": {
    "ExecuteTime": {
     "end_time": "2022-10-11T08:38:59.224203Z",
     "start_time": "2022-10-11T08:38:59.144132Z"
    }
   },
   "outputs": [
    {
     "name": "stdout",
     "output_type": "stream",
     "text": [
      "67 26 7\n",
      "4 26 7 4\n",
      "38 0 0\n",
      "0 22 3\n"
     ]
    }
   ],
   "source": [
    "# recurring user: tmpUserID with more than one id=0\n",
    "# user: tmpUserID\n",
    "# registered user: tmpUserID with userID and email\n",
    "allTmpUsers = set(df['tmpUserID'].tolist())\n",
    "recurUsers = set()\n",
    "regUsers = set()\n",
    "for tmpUser in allTmpUsers:\n",
    "    if len(df[(df['tmpUserID'] == tmpUser) & (df['id'] == 0)].index.tolist()) > 1:\n",
    "        recurUsers.add(tmpUser)\n",
    "    if len(df[(df['tmpUserID'] == tmpUser) & (df['userID'] != False)].index.tolist()) >= 1:\n",
    "        regUsers.add(tmpUser)\n",
    "print(len(allTmpUsers), len(recurUsers), len(regUsers))\n",
    "print(len(allTmpUsers&recurUsers&regUsers), len(allTmpUsers&recurUsers),\n",
    "      len(allTmpUsers&regUsers), len(recurUsers&regUsers))\n",
    "print(len(allTmpUsers-recurUsers-regUsers), len(recurUsers-allTmpUsers-regUsers),\n",
    "      len(regUsers-recurUsers-allTmpUsers))\n",
    "print(len((recurUsers&regUsers)-allTmpUsers), len((recurUsers&allTmpUsers)-regUsers),\n",
    "      len((regUsers&allTmpUsers)-recurUsers))"
   ]
  },
  {
   "cell_type": "markdown",
   "metadata": {},
   "source": [
    "# figures"
   ]
  },
  {
   "cell_type": "code",
   "execution_count": 49,
   "metadata": {
    "ExecuteTime": {
     "end_time": "2022-10-11T08:39:06.889136Z",
     "start_time": "2022-10-11T08:39:06.271567Z"
    },
    "hide_input": true,
    "scrolled": true
   },
   "outputs": [
    {
     "data": {
      "image/png": "[encoded data removed]",
      "text/plain": [
       "<Figure size 540x216 with 1 Axes>"
      ]
     },
     "metadata": {
      "needs_background": "light"
     },
     "output_type": "display_data"
    }
   ],
   "source": [
    "plt.rc('axes', titlesize=20)\n",
    "plt.rc('axes', labelsize=20)\n",
    "plt.rc('xtick', labelsize=15)\n",
    "plt.rc('ytick', labelsize=18)\n",
    "plt.rc('legend', fontsize=16)\n",
    "plt.rcParams[\"font.family\"] = \"Times New Roman\"\n",
    "\n",
    "dates = sorted(list(set(df['date'].tolist())))\n",
    "allDates = pd.date_range(start=dates[0], end=dates[-1])\n",
    "x, y1, y2, y3 = allDates, [], [], []\n",
    "newUsers = set()\n",
    "for i in x:\n",
    "    tmp_df = df[df['date'] == str(i).split(\" \")[0]]\n",
    "    y1.append(len(set(tmp_df['tmpUserID'].tolist())))\n",
    "    \n",
    "    oldUserNum = len(newUsers)\n",
    "    userIDs = set(tmp_df['userID'].tolist())-{False}\n",
    "    newUsers.update(userIDs)\n",
    "    newUserNum = len(newUsers)\n",
    "    newReg = newUserNum-oldUserNum\n",
    "    y2.append(newReg)\n",
    "    \n",
    "    # unique visitor\n",
    "    ttmp_df = tmp_df.drop_duplicates(subset=['tmpUserID'])\n",
    "    y3.append(len(ttmp_df[ttmp_df[\"isInitial\"] == True].index))\n",
    "    \n",
    "fig = plt.figure(figsize=(7.5,3))\n",
    "plt.plot(x, y1, label='no. of users')\n",
    "plt.plot(x, y2, label='new registrar')\n",
    "plt.plot(x, y3, label='unique visitor')\n",
    "ax = plt.gca()\n",
    "ax.grid(axis='both')\n",
    "plt.yticks([0, 5,10,15,20])\n",
    "ax.legend(loc='center left', bbox_to_anchor=(1, 0.5))\n",
    "ax.set_title(\"(a) time-series user activity\", pad=10)\n",
    "fig.tight_layout()\n",
    "fig.savefig(\"./img/time_user_raw.png\", dpi=300)"
   ]
  },
  {
   "cell_type": "code",
   "execution_count": 50,
   "metadata": {
    "ExecuteTime": {
     "end_time": "2022-10-11T08:39:07.885651Z",
     "start_time": "2022-10-11T08:39:07.385196Z"
    },
    "hide_input": true,
    "scrolled": true
   },
   "outputs": [
    {
     "data": {
      "image/png": "[encoded data removed]",
      "text/plain": [
       "<Figure size 864x216 with 3 Axes>"
      ]
     },
     "metadata": {
      "needs_background": "light"
     },
     "output_type": "display_data"
    }
   ],
   "source": [
    "plt.rc('axes', titlesize=20)\n",
    "plt.rc('axes', labelsize=20)\n",
    "plt.rc('xtick', labelsize=16)\n",
    "plt.rc('ytick', labelsize=18)\n",
    "plt.rc('legend', fontsize=16)\n",
    "plt.rcParams[\"font.family\"] = \"Times New Roman\"\n",
    "\n",
    "fig, axes = plt.subplots(1, 3, figsize=(12, 3))\n",
    "axes[0].plot(x, y1, color='tab:blue')\n",
    "axes[1].plot(x, y2, color='tab:orange')\n",
    "axes[2].plot(x, y3, color='tab:green')\n",
    "\n",
    "for i in range(0, 3):\n",
    "    axes[i].xaxis.set_major_locator(mdates.MonthLocator((11, 1, 3, 5)))\n",
    "    axes[i].grid(axis='both')\n",
    "    \n",
    "axes[1].yaxis.set_ticklabels([])\n",
    "axes[2].yaxis.set_ticklabels([])\n",
    "\n",
    "fig.tight_layout()\n",
    "fig.savefig(\"./img/time_user.png\", dpi=300)"
   ]
  },
  {
   "cell_type": "code",
   "execution_count": 51,
   "metadata": {
    "ExecuteTime": {
     "end_time": "2022-10-11T08:39:08.875417Z",
     "start_time": "2022-10-11T08:39:08.627191Z"
    },
    "hide_input": true
   },
   "outputs": [
    {
     "data": {
      "image/png": "[encoded data removed]",
      "text/plain": [
       "<Figure size 396x216 with 1 Axes>"
      ]
     },
     "metadata": {
      "needs_background": "light"
     },
     "output_type": "display_data"
    }
   ],
   "source": [
    "plt.rc('axes', titlesize=20)\n",
    "plt.rc('axes', labelsize=20)\n",
    "plt.rc('xtick', labelsize=16)\n",
    "plt.rc('ytick', labelsize=18)\n",
    "plt.rc('legend', fontsize=16)\n",
    "plt.rcParams[\"font.family\"] = \"Times New Roman\"\n",
    "\n",
    "dates = sorted(list(set(df['date'].tolist())))\n",
    "allTimes = [\"0{}:00:00.000\".format(str(i)) if i < 10 else \"{}:00:00.000\".format(str(i)) for i in range(0, 24)]\n",
    "allTimes += [\"00:00:00.000\"]\n",
    "y1 = []\n",
    "newUsers = set()\n",
    "for i in range(len(allTimes)-1):\n",
    "    tmp_df = df[np.logical_and(df['time'] >= allTimes[i], df['time'] < allTimes[i+1])]\n",
    "    y1.append(len(set(tmp_df['tmpUserID'].tolist())))\n",
    "    \n",
    "x = [\"0{}:00\".format(str(i)) if i < 10 else \"{}:00\".format(str(i)) for i in range(0, 24)]\n",
    "fig = plt.figure(figsize=(5.5,3))\n",
    "plt.plot(x, y1, label='no. of users')\n",
    "ax = plt.gca()\n",
    "ax.grid(axis='both')\n",
    "ax.set_xticks([\"0{}:00\".format(str(i)) if i < 10 else \"{}:00\".format(str(i)) for i in range(0, 24, 3)])\n",
    "ax.set_title(\"Time of day user activity\", pad=10)\n",
    "fig.tight_layout()\n",
    "fig.savefig(\"./img/clock_user.png\", dpi=300)"
   ]
  },
  {
   "cell_type": "code",
   "execution_count": 53,
   "metadata": {
    "ExecuteTime": {
     "end_time": "2022-10-11T08:39:12.102392Z",
     "start_time": "2022-10-11T08:39:11.834148Z"
    },
    "hide_input": true
   },
   "outputs": [
    {
     "name": "stdout",
     "output_type": "stream",
     "text": [
      "mean: 2, median: 1, 75% quartile: 2, max val: 17\n",
      "how many above 75%: 26, 90% quartile: 4, how many above 90%: 9\n",
      "67\n"
     ]
    },
    {
     "data": {
      "image/png": "[encoded data removed]",
      "text/plain": [
       "<Figure size 360x216 with 1 Axes>"
      ]
     },
     "metadata": {
      "needs_background": "light"
     },
     "output_type": "display_data"
    }
   ],
   "source": [
    "tmp_df = df[df['id'] == 0]['tmpUserID'].tolist()\n",
    "recurVisit = dict(Counter([i for i in tmp_df]))\n",
    "x = list(recurVisit.values())\n",
    "x = np.asarray(sorted(x))\n",
    "print(\"mean: {}, median: {}, 75% quartile: {}, max val: {}\".format(\n",
    "    mean(x), median(x), x[int(len(x)*0.75)], np.max(x)\n",
    "))\n",
    "print(\"how many above 75%: {}, 90% quartile: {}, how many above 90%: {}\".format(\n",
    "    len(x[x >= x[int(len(x)*0.75)]]), x[int(len(x)*0.9)], len(x[x >= x[int(len(x)*0.9)]])\n",
    "))\n",
    "print(len(x))\n",
    "topRecurThres = x[int(len(x)*0.75)]\n",
    "\n",
    "fig = plt.figure(figsize=(5,3))\n",
    "sns.histplot(data=x, kde=True, bins=20, label='', color='grey')\n",
    "ax = plt.gca()\n",
    "ax.set_xlabel(\"(a) no. of recurring visit\")\n",
    "ax.set_ylabel(\"user count\")\n",
    "#plt.legend()\n",
    "plt.tight_layout()\n",
    "plt.savefig(\"./img/recurr_details.png\", dpi=300)\n",
    "plt.show()"
   ]
  },
  {
   "cell_type": "code",
   "execution_count": 54,
   "metadata": {
    "ExecuteTime": {
     "end_time": "2022-10-11T08:39:12.449708Z",
     "start_time": "2022-10-11T08:39:12.104461Z"
    },
    "hide_input": true
   },
   "outputs": [
    {
     "name": "stderr",
     "output_type": "stream",
     "text": [
      "C:\\Users\\andy8\\AppData\\Local\\Temp\\ipykernel_49040\\1735034918.py:5: SettingWithCopyWarning: \n",
      "A value is trying to be set on a copy of a slice from a DataFrame\n",
      "\n",
      "See the caveats in the documentation: https://pandas.pydata.org/pandas-docs/stable/user_guide/indexing.html#returning-a-view-versus-a-copy\n",
      "  user_df.sort_values(by=['dt'], inplace=True)\n"
     ]
    },
    {
     "name": "stdout",
     "output_type": "stream",
     "text": [
      "number of full records: 143\n",
      "number of records after filtering (1-hour): 137\n",
      "mean: 115, median: 6, 75% quartile: 58, max val: 3216\n",
      "how many above 75%: 35, 90% quartile: 177, how many above 90%: 14\n",
      "137\n"
     ]
    },
    {
     "data": {
      "image/png": "[encoded data removed]",
      "text/plain": [
       "<Figure size 360x216 with 1 Axes>"
      ]
     },
     "metadata": {
      "needs_background": "light"
     },
     "output_type": "display_data"
    }
   ],
   "source": [
    "x = get_sorted_dur(df)\n",
    "print(\"number of full records: {}\".format(len(x)))\n",
    "x = x[x < 60*60]\n",
    "print(\"number of records after filtering (1-hour): {}\".format(len(x)))\n",
    "print(\"mean: {}, median: {}, 75% quartile: {}, max val: {}\".format(\n",
    "    mean(x), median(x), x[int(len(x)*0.75)], np.max(x)\n",
    "))\n",
    "print(\"how many above 75%: {}, 90% quartile: {}, how many above 90%: {}\".format(\n",
    "    len(x[x >= x[int(len(x)*0.75)]]), x[int(len(x)*0.9)], len(x[x >= x[int(len(x)*0.9)]])\n",
    "))\n",
    "print(len(x))\n",
    "topDurThres = x[int(len(x)*0.75)]\n",
    "\n",
    "fig = plt.figure(figsize=(5,3))\n",
    "sns.histplot(data=x, kde=True, label='no. of visit', bins=30, color='grey')\n",
    "ax = plt.gca()\n",
    "#plt.legend()\n",
    "ax.set_xlabel('(b) duration of visit (seconds)')\n",
    "ax.set_ylabel('user count')\n",
    "plt.tight_layout()\n",
    "plt.savefig(\"./img/dur_details.png\", dpi=300)\n",
    "plt.show()"
   ]
  },
  {
   "cell_type": "code",
   "execution_count": 55,
   "metadata": {
    "ExecuteTime": {
     "end_time": "2022-10-11T08:39:18.268793Z",
     "start_time": "2022-10-11T08:39:18.255781Z"
    },
    "hide_input": false
   },
   "outputs": [
    {
     "name": "stdout",
     "output_type": "stream",
     "text": [
      "duration: 58, recurring: 2\n"
     ]
    }
   ],
   "source": [
    "print(\"duration: {}, recurring: {}\".format(topDurThres, topRecurThres))"
   ]
  },
  {
   "cell_type": "code",
   "execution_count": 56,
   "metadata": {
    "ExecuteTime": {
     "end_time": "2022-10-11T08:39:21.971164Z",
     "start_time": "2022-10-11T08:39:21.881425Z"
    },
    "scrolled": true
   },
   "outputs": [
    {
     "name": "stdout",
     "output_type": "stream",
     "text": [
      "15\n",
      "67\n"
     ]
    },
    {
     "name": "stderr",
     "output_type": "stream",
     "text": [
      "C:\\Users\\andy8\\AppData\\Local\\Temp\\ipykernel_49040\\1008987946.py:11: SettingWithCopyWarning: \n",
      "A value is trying to be set on a copy of a slice from a DataFrame\n",
      "\n",
      "See the caveats in the documentation: https://pandas.pydata.org/pandas-docs/stable/user_guide/indexing.html#returning-a-view-versus-a-copy\n",
      "  user_df.sort_values(by=['dt'], inplace=True)\n"
     ]
    }
   ],
   "source": [
    "# map tmpUserID to recurVisit\n",
    "# also map tmpUserID to a list of duration\n",
    "# then filter tmpUserID such that either their recurVisit >= topRecurThres\n",
    "# or has one duration >= topDurThres\n",
    "tmp_df = df[df['id'] == 0]['tmpUserID'].tolist()\n",
    "recurVisit = dict(Counter(tmp_df))\n",
    "\n",
    "allDurations = defaultdict(list)\n",
    "for tmpUserID in set(df['tmpUserID']):\n",
    "    user_df = df[df['tmpUserID'] == tmpUserID]\n",
    "    user_df.sort_values(by=['dt'], inplace=True)\n",
    "    user_dts, user_ids = user_df['dt'].tolist(), user_df['id'].tolist()\n",
    "    checkPts = [i for i in range(len(user_ids)) if user_ids[i] == 0]\n",
    "    # get duration of each session\n",
    "    user_dts = [datetime.strptime(dt.split(\".\")[0], '%Y-%m-%d %H:%M:%S') for dt in user_dts] # convert to dt\n",
    "    for i in range(len(checkPts)): # get diff in start & end of each session: duration\n",
    "        if i == len(checkPts)-1:\n",
    "            startDT, endDT = user_dts[checkPts[i]], user_dts[-1]\n",
    "        else:\n",
    "            startDT, endDT = user_dts[checkPts[i]], user_dts[checkPts[i+1]-1]\n",
    "        allDurations[tmpUserID].append(int((endDT-startDT).total_seconds()))\n",
    "for key in allDurations:\n",
    "    allDurations[key] = np.max(allDurations[key])\n",
    "\n",
    "validRecUIDs = set([key for key in recurVisit if recurVisit[key] >= topRecurThres])\n",
    "validDurUIDs = set([key for key in allDurations if allDurations[key] >= topDurThres])\n",
    "activeTmpUIDs = validRecUIDs&validDurUIDs\n",
    "print(len(activeTmpUIDs))\n",
    "print(len(set(df['tmpUserID'].tolist())))"
   ]
  },
  {
   "cell_type": "code",
   "execution_count": 57,
   "metadata": {
    "ExecuteTime": {
     "end_time": "2022-10-11T08:39:23.928510Z",
     "start_time": "2022-10-11T08:39:23.860448Z"
    }
   },
   "outputs": [
    {
     "name": "stdout",
     "output_type": "stream",
     "text": [
      "active user session no.: 62, nonactive user session no.: 81\n",
      "mean active recur: 4.133333333333334, mean nonactive recur: 1.5576923076923077\n",
      "mean active dur: 232, mean nonactive dur: 29\n"
     ]
    },
    {
     "name": "stderr",
     "output_type": "stream",
     "text": [
      "C:\\Users\\andy8\\AppData\\Local\\Temp\\ipykernel_49040\\1735034918.py:5: SettingWithCopyWarning: \n",
      "A value is trying to be set on a copy of a slice from a DataFrame\n",
      "\n",
      "See the caveats in the documentation: https://pandas.pydata.org/pandas-docs/stable/user_guide/indexing.html#returning-a-view-versus-a-copy\n",
      "  user_df.sort_values(by=['dt'], inplace=True)\n"
     ]
    }
   ],
   "source": [
    "active_df = df[df['tmpUserID'].isin(activeTmpUIDs)]\n",
    "nonactive_df = df[~df['tmpUserID'].isin(activeTmpUIDs)]\n",
    "print(\"active user session no.: {}, nonactive user session no.: {}\".format(\n",
    "len(active_df[active_df['id'] == 0].index), len(nonactive_df[nonactive_df['id'] == 0])))\n",
    "\n",
    "active_recur = list(dict(Counter(active_df[active_df['id'] == 0]['tmpUserID'].tolist())).values())\n",
    "nonactive_recur = list(dict(Counter(nonactive_df[nonactive_df['id'] == 0]['tmpUserID'].tolist())).values())\n",
    "print(\"mean active recur: {}, mean nonactive recur: {}\".format(mean(active_recur), mean(nonactive_recur)))\n",
    "\n",
    "active_dur = get_sorted_dur(active_df)\n",
    "active_dur = active_dur[active_dur < 60*60]\n",
    "nonactive_dur = get_sorted_dur(nonactive_df)\n",
    "nonactive_dur = nonactive_dur[nonactive_dur < 60*60]\n",
    "print(\"mean active dur: {}, mean nonactive dur: {}\".format(mean(active_dur), mean(nonactive_dur)))"
   ]
  },
  {
   "cell_type": "code",
   "execution_count": 59,
   "metadata": {
    "ExecuteTime": {
     "end_time": "2022-10-11T08:39:27.951376Z",
     "start_time": "2022-10-11T08:39:27.845291Z"
    },
    "hide_input": false,
    "scrolled": false
   },
   "outputs": [
    {
     "data": {
      "text/html": [
       "<div>\n",
       "<style scoped>\n",
       "    .dataframe tbody tr th:only-of-type {\n",
       "        vertical-align: middle;\n",
       "    }\n",
       "\n",
       "    .dataframe tbody tr th {\n",
       "        vertical-align: top;\n",
       "    }\n",
       "\n",
       "    .dataframe thead th {\n",
       "        text-align: right;\n",
       "    }\n",
       "</style>\n",
       "<table border=\"1\" class=\"dataframe\">\n",
       "  <thead>\n",
       "    <tr style=\"text-align: right;\">\n",
       "      <th></th>\n",
       "      <th>id</th>\n",
       "      <th>dt</th>\n",
       "      <th>date</th>\n",
       "      <th>time</th>\n",
       "      <th>tmpUserID</th>\n",
       "      <th>userID</th>\n",
       "      <th>context</th>\n",
       "      <th>fullContext</th>\n",
       "      <th>data-text</th>\n",
       "      <th>action</th>\n",
       "      <th>email</th>\n",
       "      <th>hasReg</th>\n",
       "      <th>isInitial</th>\n",
       "      <th>sessID</th>\n",
       "      <th>is-active</th>\n",
       "    </tr>\n",
       "  </thead>\n",
       "  <tbody>\n",
       "    <tr>\n",
       "      <th>0</th>\n",
       "      <td>0</td>\n",
       "      <td>2021-10-26 10:19:15.928</td>\n",
       "      <td>2021-10-26</td>\n",
       "      <td>10:19:15.928</td>\n",
       "      <td>4</td>\n",
       "      <td>False</td>\n",
       "      <td>/</td>\n",
       "      <td>/</td>\n",
       "      <td>False</td>\n",
       "      <td>nav</td>\n",
       "      <td>data-obscured</td>\n",
       "      <td>True</td>\n",
       "      <td>True</td>\n",
       "      <td>0</td>\n",
       "      <td>True</td>\n",
       "    </tr>\n",
       "    <tr>\n",
       "      <th>1</th>\n",
       "      <td>0</td>\n",
       "      <td>2021-10-27 05:04:25.722</td>\n",
       "      <td>2021-10-27</td>\n",
       "      <td>05:04:25.722</td>\n",
       "      <td>7</td>\n",
       "      <td>False</td>\n",
       "      <td>/</td>\n",
       "      <td>/</td>\n",
       "      <td>False</td>\n",
       "      <td>nav</td>\n",
       "      <td>data-obscured</td>\n",
       "      <td>True</td>\n",
       "      <td>True</td>\n",
       "      <td>1</td>\n",
       "      <td>True</td>\n",
       "    </tr>\n",
       "    <tr>\n",
       "      <th>2</th>\n",
       "      <td>1</td>\n",
       "      <td>2021-10-27 05:04:27.782</td>\n",
       "      <td>2021-10-27</td>\n",
       "      <td>05:04:27.782</td>\n",
       "      <td>7</td>\n",
       "      <td>False</td>\n",
       "      <td>/</td>\n",
       "      <td>/</td>\n",
       "      <td>Forum</td>\n",
       "      <td>click</td>\n",
       "      <td>data-obscured</td>\n",
       "      <td>True</td>\n",
       "      <td>True</td>\n",
       "      <td>1</td>\n",
       "      <td>True</td>\n",
       "    </tr>\n",
       "    <tr>\n",
       "      <th>3</th>\n",
       "      <td>2</td>\n",
       "      <td>2021-10-27 05:04:27.794</td>\n",
       "      <td>2021-10-27</td>\n",
       "      <td>05:04:27.794</td>\n",
       "      <td>7</td>\n",
       "      <td>False</td>\n",
       "      <td>/discuss</td>\n",
       "      <td>/discuss</td>\n",
       "      <td>False</td>\n",
       "      <td>nav</td>\n",
       "      <td>data-obscured</td>\n",
       "      <td>True</td>\n",
       "      <td>True</td>\n",
       "      <td>1</td>\n",
       "      <td>True</td>\n",
       "    </tr>\n",
       "    <tr>\n",
       "      <th>4</th>\n",
       "      <td>3</td>\n",
       "      <td>2021-10-27 05:04:29.522</td>\n",
       "      <td>2021-10-27</td>\n",
       "      <td>05:04:29.522</td>\n",
       "      <td>7</td>\n",
       "      <td>False</td>\n",
       "      <td>/discuss</td>\n",
       "      <td>/discuss</td>\n",
       "      <td>Laboratories of the PolyU BME Database</td>\n",
       "      <td>click</td>\n",
       "      <td>data-obscured</td>\n",
       "      <td>True</td>\n",
       "      <td>True</td>\n",
       "      <td>1</td>\n",
       "      <td>True</td>\n",
       "    </tr>\n",
       "    <tr>\n",
       "      <th>...</th>\n",
       "      <td>...</td>\n",
       "      <td>...</td>\n",
       "      <td>...</td>\n",
       "      <td>...</td>\n",
       "      <td>...</td>\n",
       "      <td>...</td>\n",
       "      <td>...</td>\n",
       "      <td>...</td>\n",
       "      <td>...</td>\n",
       "      <td>...</td>\n",
       "      <td>...</td>\n",
       "      <td>...</td>\n",
       "      <td>...</td>\n",
       "      <td>...</td>\n",
       "      <td>...</td>\n",
       "    </tr>\n",
       "    <tr>\n",
       "      <th>859</th>\n",
       "      <td>0</td>\n",
       "      <td>2022-04-26 14:25:43.215</td>\n",
       "      <td>2022-04-26</td>\n",
       "      <td>14:25:43.215</td>\n",
       "      <td>81</td>\n",
       "      <td>False</td>\n",
       "      <td>/</td>\n",
       "      <td>/</td>\n",
       "      <td>False</td>\n",
       "      <td>nav</td>\n",
       "      <td>data-obscured</td>\n",
       "      <td>False</td>\n",
       "      <td>True</td>\n",
       "      <td>140</td>\n",
       "      <td>False</td>\n",
       "    </tr>\n",
       "    <tr>\n",
       "      <th>860</th>\n",
       "      <td>1</td>\n",
       "      <td>2022-04-26 14:25:47.141</td>\n",
       "      <td>2022-04-26</td>\n",
       "      <td>14:25:47.141</td>\n",
       "      <td>81</td>\n",
       "      <td>False</td>\n",
       "      <td>Remote Desktop</td>\n",
       "      <td>/</td>\n",
       "      <td>Remote Desktop</td>\n",
       "      <td>nav</td>\n",
       "      <td>data-obscured</td>\n",
       "      <td>False</td>\n",
       "      <td>True</td>\n",
       "      <td>140</td>\n",
       "      <td>False</td>\n",
       "    </tr>\n",
       "    <tr>\n",
       "      <th>861</th>\n",
       "      <td>0</td>\n",
       "      <td>2022-04-29 16:53:29.640</td>\n",
       "      <td>2022-04-29</td>\n",
       "      <td>16:53:29.640</td>\n",
       "      <td>80</td>\n",
       "      <td>False</td>\n",
       "      <td>/</td>\n",
       "      <td>/</td>\n",
       "      <td>False</td>\n",
       "      <td>nav</td>\n",
       "      <td>data-obscured</td>\n",
       "      <td>False</td>\n",
       "      <td>False</td>\n",
       "      <td>141</td>\n",
       "      <td>True</td>\n",
       "    </tr>\n",
       "    <tr>\n",
       "      <th>862</th>\n",
       "      <td>1</td>\n",
       "      <td>2022-04-29 16:53:33.976</td>\n",
       "      <td>2022-04-29</td>\n",
       "      <td>16:53:33.976</td>\n",
       "      <td>80</td>\n",
       "      <td>False</td>\n",
       "      <td>Remote Desktop</td>\n",
       "      <td>/</td>\n",
       "      <td>Remote Desktop</td>\n",
       "      <td>nav</td>\n",
       "      <td>data-obscured</td>\n",
       "      <td>False</td>\n",
       "      <td>False</td>\n",
       "      <td>141</td>\n",
       "      <td>True</td>\n",
       "    </tr>\n",
       "    <tr>\n",
       "      <th>863</th>\n",
       "      <td>0</td>\n",
       "      <td>2022-05-23 16:00:04.747</td>\n",
       "      <td>2022-05-23</td>\n",
       "      <td>16:00:04.747</td>\n",
       "      <td>83</td>\n",
       "      <td>False</td>\n",
       "      <td>/</td>\n",
       "      <td>/</td>\n",
       "      <td>False</td>\n",
       "      <td>nav</td>\n",
       "      <td>data-obscured</td>\n",
       "      <td>False</td>\n",
       "      <td>True</td>\n",
       "      <td>142</td>\n",
       "      <td>False</td>\n",
       "    </tr>\n",
       "  </tbody>\n",
       "</table>\n",
       "<p>864 rows × 15 columns</p>\n",
       "</div>"
      ],
      "text/plain": [
       "     id                       dt        date          time  tmpUserID userID  \\\n",
       "0     0  2021-10-26 10:19:15.928  2021-10-26  10:19:15.928          4  False   \n",
       "1     0  2021-10-27 05:04:25.722  2021-10-27  05:04:25.722          7  False   \n",
       "2     1  2021-10-27 05:04:27.782  2021-10-27  05:04:27.782          7  False   \n",
       "3     2  2021-10-27 05:04:27.794  2021-10-27  05:04:27.794          7  False   \n",
       "4     3  2021-10-27 05:04:29.522  2021-10-27  05:04:29.522          7  False   \n",
       "..   ..                      ...         ...           ...        ...    ...   \n",
       "859   0  2022-04-26 14:25:43.215  2022-04-26  14:25:43.215         81  False   \n",
       "860   1  2022-04-26 14:25:47.141  2022-04-26  14:25:47.141         81  False   \n",
       "861   0  2022-04-29 16:53:29.640  2022-04-29  16:53:29.640         80  False   \n",
       "862   1  2022-04-29 16:53:33.976  2022-04-29  16:53:33.976         80  False   \n",
       "863   0  2022-05-23 16:00:04.747  2022-05-23  16:00:04.747         83  False   \n",
       "\n",
       "            context fullContext                               data-text  \\\n",
       "0                 /           /                                   False   \n",
       "1                 /           /                                   False   \n",
       "2                 /           /                                   Forum   \n",
       "3          /discuss    /discuss                                   False   \n",
       "4          /discuss    /discuss  Laboratories of the PolyU BME Database   \n",
       "..              ...         ...                                     ...   \n",
       "859               /           /                                   False   \n",
       "860  Remote Desktop           /                          Remote Desktop   \n",
       "861               /           /                                   False   \n",
       "862  Remote Desktop           /                          Remote Desktop   \n",
       "863               /           /                                   False   \n",
       "\n",
       "    action          email  hasReg  isInitial  sessID  is-active  \n",
       "0      nav  data-obscured    True       True       0       True  \n",
       "1      nav  data-obscured    True       True       1       True  \n",
       "2    click  data-obscured    True       True       1       True  \n",
       "3      nav  data-obscured    True       True       1       True  \n",
       "4    click  data-obscured    True       True       1       True  \n",
       "..     ...            ...     ...        ...     ...        ...  \n",
       "859    nav  data-obscured   False       True     140      False  \n",
       "860    nav  data-obscured   False       True     140      False  \n",
       "861    nav  data-obscured   False      False     141       True  \n",
       "862    nav  data-obscured   False      False     141       True  \n",
       "863    nav  data-obscured   False       True     142      False  \n",
       "\n",
       "[864 rows x 15 columns]"
      ]
     },
     "execution_count": 59,
     "metadata": {},
     "output_type": "execute_result"
    }
   ],
   "source": [
    "# add new col classify records as active or nonactive (according to tmpUserID)\n",
    "is_active = []\n",
    "for i in df.index:\n",
    "    if df.iloc[i]['tmpUserID'] in activeTmpUIDs:\n",
    "        is_active.append(True)\n",
    "    else:\n",
    "        is_active.append(False)\n",
    "df['is-active'] = is_active\n",
    "df"
   ]
  },
  {
   "cell_type": "code",
   "execution_count": 60,
   "metadata": {
    "ExecuteTime": {
     "end_time": "2022-10-11T08:39:39.338214Z",
     "start_time": "2022-10-11T08:39:39.329207Z"
    }
   },
   "outputs": [],
   "source": [
    "def df_to_freq_fixed(df):\n",
    "    # action=nav is not a reliable metric for page-switch, there exists other possible trigger\n",
    "    # let just use sequential records and remove duplicates\n",
    "    allVisits = []\n",
    "    for sess in set(df['sessID']):\n",
    "        curVisits = df[df['sessID'] == sess]['context'].tolist()\n",
    "        ptr = curVisits[0]\n",
    "        allVisits.append(ptr)\n",
    "        for i in range(1, len(curVisits)):\n",
    "            if ptr != curVisits[i]: allVisits.append(curVisits[i])\n",
    "            ptr = curVisits[i]\n",
    "    return dict(collections.Counter(allVisits))"
   ]
  },
  {
   "cell_type": "code",
   "execution_count": 61,
   "metadata": {
    "ExecuteTime": {
     "end_time": "2022-10-11T08:39:39.794180Z",
     "start_time": "2022-10-11T08:39:39.738129Z"
    }
   },
   "outputs": [
    {
     "name": "stdout",
     "output_type": "stream",
     "text": [
      "{'/': 102, '/info': 30, '/discuss': 10, '/post': 5, '/contact': 4, 'Remote Desktop': 32, '/login': 10, False: 23, '/booking': 12, '/profile': 4, '/pdfview': 1, '/createPost': 1}\n"
     ]
    }
   ],
   "source": [
    "abbrevs = {'/': 'Frontpage', '/discuss': 'Forum', '/contact': 'Contact',\n",
    "           '/info': 'Database', '/login': 'Login', '/booking': 'Booking', 'Remote Desktop': 'Remote\\n Desktop',\n",
    "           '/profile': 'User profile', '/pdfview': 'PDF pages', '/createPost': 'Forum', '/post': 'Forum'}\n",
    "pageTypes = {'/': \"misc.\", '/discuss': \"active\", '/contact': \"misc.\", '/info': 'passive', '/login': 'misc.', 'Remote Desktop': 'active',\n",
    "             '/booking': 'misc.', '/profile': 'misc.', '/pdfview': 'passive', '/createPost': 'active', '/post': 'active'}\n",
    "#allPageTypes = set(list(pageTypes.values()))\n",
    "allPageTypes = ['misc.', 'active', 'passive']\n",
    "pTypeColors = {'passive': \"tab:blue\", \"active\": \"tab:orange\", \"misc.\": \"gray\"}\n",
    "\n",
    "active_inital = df_to_freq_fixed(df[(df['is-active'] == True) & (df['isInitial'] == True)])\n",
    "nonactive_inital = df_to_freq_fixed(df[(df['is-active'] == False) & (df['isInitial'] == True)])\n",
    "active_recur = df_to_freq_fixed(df[(df['is-active'] == True) & (df['isInitial'] == False)])\n",
    "nonactive_recur = df_to_freq_fixed(df[(df['is-active'] == False) & (df['isInitial'] == False)])\n",
    "print(active_recur)"
   ]
  },
  {
   "cell_type": "code",
   "execution_count": 62,
   "metadata": {
    "ExecuteTime": {
     "end_time": "2022-10-11T08:39:41.393451Z",
     "start_time": "2022-10-11T08:39:41.083165Z"
    },
    "hide_input": true
   },
   "outputs": [
    {
     "data": {
      "image/png": "[encoded data removed]",
      "text/plain": [
       "<Figure size 396x180 with 1 Axes>"
      ]
     },
     "metadata": {
      "needs_background": "light"
     },
     "output_type": "display_data"
    }
   ],
   "source": [
    "plt.rc('axes', titlesize=20)\n",
    "plt.rc('axes', labelsize=20)\n",
    "plt.rc('xtick', labelsize=15)\n",
    "plt.rc('ytick', labelsize=18)\n",
    "plt.rc('legend', fontsize=16)\n",
    "plt.rcParams[\"font.family\"] = \"Times New Roman\"\n",
    "\n",
    "fig = plt.figure(figsize=(5.5,2.5))\n",
    "sorted_pages = []\n",
    "for pType in allPageTypes:\n",
    "    sorted_pages += [i for i in pageTypes if pageTypes[i] == pType]\n",
    "plt.bar([abbrevs[i] for i in sorted_pages],\n",
    "        [active_inital[i] if i in active_inital else 0 for i in sorted_pages],\n",
    "        color=[pTypeColors[pageTypes[i]] for i in sorted_pages])\n",
    "plt.xticks(rotation=90)\n",
    "patches = [mpatches.Patch(color=pTypeColors[c], label=c) for c in pTypeColors]\n",
    "ax = plt.gca()\n",
    "ax.legend(handles=patches, bbox_to_anchor=(1, 0.8))\n",
    "ax.set_ylabel(\"No. of visits\")\n",
    "plt.tight_layout()\n",
    "plt.savefig(\"./img/active_init_wLegend.png\", dpi=300)\n",
    "plt.show()"
   ]
  },
  {
   "cell_type": "code",
   "execution_count": 63,
   "metadata": {
    "ExecuteTime": {
     "end_time": "2022-10-11T08:39:41.664698Z",
     "start_time": "2022-10-11T08:39:41.395453Z"
    },
    "hide_input": true
   },
   "outputs": [
    {
     "data": {
      "image/png": "[encoded data removed]",
      "text/plain": [
       "<Figure size 342x252 with 1 Axes>"
      ]
     },
     "metadata": {
      "needs_background": "light"
     },
     "output_type": "display_data"
    }
   ],
   "source": [
    "plt.rc('axes', titlesize=20)\n",
    "plt.rc('axes', labelsize=20)\n",
    "plt.rc('xtick', labelsize=16)\n",
    "plt.rc('ytick', labelsize=16)\n",
    "plt.rc('legend', fontsize=16)\n",
    "plt.rcParams[\"font.family\"] = \"Times New Roman\"\n",
    "\n",
    "fig = plt.figure(figsize=(4.75,3.5))\n",
    "sorted_pages = []\n",
    "for pType in allPageTypes:\n",
    "    sorted_pages += [i for i in pageTypes if pageTypes[i] == pType]\n",
    "plt.bar([abbrevs[i] for i in sorted_pages],\n",
    "        [active_inital[i] if i in active_inital else 0 for i in sorted_pages],\n",
    "        color=[pTypeColors[pageTypes[i]] for i in sorted_pages])\n",
    "plt.xticks(rotation=90)\n",
    "patches = [mpatches.Patch(color=pTypeColors[c], label=c) for c in pTypeColors]\n",
    "ax = plt.gca()\n",
    "#ax.set_ylabel(\"No. of visits\")\n",
    "ax.set_ylim([0, 105])\n",
    "plt.tight_layout()\n",
    "plt.savefig(\"./img/active_init.png\", dpi=300)\n",
    "plt.show()"
   ]
  },
  {
   "cell_type": "code",
   "execution_count": 64,
   "metadata": {
    "ExecuteTime": {
     "end_time": "2022-10-11T08:39:41.949007Z",
     "start_time": "2022-10-11T08:39:41.666700Z"
    },
    "hide_input": true
   },
   "outputs": [
    {
     "data": {
      "image/png": "[encoded data removed]",
      "text/plain": [
       "<Figure size 342x252 with 1 Axes>"
      ]
     },
     "metadata": {
      "needs_background": "light"
     },
     "output_type": "display_data"
    }
   ],
   "source": [
    "fig = plt.figure(figsize=(4.75,3.5))\n",
    "sorted_pages = []\n",
    "for pType in allPageTypes:\n",
    "    sorted_pages += [i for i in pageTypes if pageTypes[i] == pType]\n",
    "plt.bar([abbrevs[i] for i in sorted_pages],\n",
    "        [nonactive_inital[i] if i in nonactive_inital else 0 for i in sorted_pages],\n",
    "        color=[pTypeColors[pageTypes[i]] for i in sorted_pages])\n",
    "plt.xticks(rotation=90)\n",
    "patches = [mpatches.Patch(color=pTypeColors[c], label=c) for c in pTypeColors]\n",
    "ax = plt.gca()\n",
    "#ax.set_ylabel(\"No. of visits\")\n",
    "ax.set_ylim([0, 105])\n",
    "plt.tight_layout()\n",
    "plt.savefig(\"./img/nonactive_init.png\", dpi=300)\n",
    "plt.show()"
   ]
  },
  {
   "cell_type": "code",
   "execution_count": 65,
   "metadata": {
    "ExecuteTime": {
     "end_time": "2022-10-11T08:39:42.332255Z",
     "start_time": "2022-10-11T08:39:42.069015Z"
    },
    "hide_input": true
   },
   "outputs": [
    {
     "data": {
      "image/png": "[encoded data removed]",
      "text/plain": [
       "<Figure size 342x252 with 1 Axes>"
      ]
     },
     "metadata": {
      "needs_background": "light"
     },
     "output_type": "display_data"
    }
   ],
   "source": [
    "fig = plt.figure(figsize=(4.75,3.5))\n",
    "sorted_pages = []\n",
    "for pType in allPageTypes:\n",
    "    sorted_pages += [i for i in pageTypes if pageTypes[i] == pType]\n",
    "plt.bar([abbrevs[i] for i in sorted_pages],\n",
    "        [active_recur[i] if i in active_recur else 0 for i in sorted_pages],\n",
    "        color=[pTypeColors[pageTypes[i]] for i in sorted_pages])\n",
    "plt.xticks(rotation=90)\n",
    "patches = [mpatches.Patch(color=pTypeColors[c], label=c) for c in pTypeColors]\n",
    "ax = plt.gca()\n",
    "#ax.set_ylabel(\"No. of visits\")\n",
    "ax.set_ylim([0, 105])\n",
    "plt.tight_layout()\n",
    "plt.savefig(\"./img/active_recur.png\", dpi=300)\n",
    "plt.show()"
   ]
  },
  {
   "cell_type": "code",
   "execution_count": 66,
   "metadata": {
    "ExecuteTime": {
     "end_time": "2022-10-11T08:39:43.749852Z",
     "start_time": "2022-10-11T08:39:43.338479Z"
    },
    "hide_input": true
   },
   "outputs": [
    {
     "data": {
      "image/png": "[encoded data removed]",
      "text/plain": [
       "<Figure size 342x252 with 1 Axes>"
      ]
     },
     "metadata": {
      "needs_background": "light"
     },
     "output_type": "display_data"
    }
   ],
   "source": [
    "fig = plt.figure(figsize=(4.75,3.5))\n",
    "sorted_pages = []\n",
    "for pType in allPageTypes:\n",
    "    sorted_pages += [i for i in pageTypes if pageTypes[i] == pType]\n",
    "plt.bar([abbrevs[i] for i in sorted_pages],\n",
    "        [nonactive_recur[i] if i in nonactive_recur else 0 for i in sorted_pages],\n",
    "        color=[pTypeColors[pageTypes[i]] for i in sorted_pages])\n",
    "plt.xticks(rotation=90)\n",
    "patches = [mpatches.Patch(color=pTypeColors[c], label=c) for c in pTypeColors]\n",
    "ax = plt.gca()\n",
    "#ax.set_ylabel(\"No. of visits\")\n",
    "ax.set_ylim([0, 105])\n",
    "plt.tight_layout()\n",
    "plt.savefig(\"./img/nonactive_recur.png\", dpi=300)\n",
    "plt.show()"
   ]
  },
  {
   "cell_type": "code",
   "execution_count": 67,
   "metadata": {
    "ExecuteTime": {
     "end_time": "2022-10-11T08:39:45.304869Z",
     "start_time": "2022-10-11T08:39:45.288854Z"
    }
   },
   "outputs": [],
   "source": [
    "def finite_state_data(df):\n",
    "    menu_dur, item_dur = [], []\n",
    "    menu_to_item_count, item_to_menu_count = 0, 0\n",
    "    menu_to_other_count, item_to_other_count = 0, 0\n",
    "    menu_to_exit_count, item_to_exit_count = 0, 0\n",
    "    for sess in set(df['sessID']):\n",
    "        menu_to_item, item_to_menu = [], []\n",
    "        menu_to_other, item_to_other = [], []\n",
    "        menu_to_exit, item_to_exit = [], []\n",
    "        index = df[df['sessID'] == sess].index.tolist()\n",
    "        #print([i for i in index])\n",
    "        navList = [df.loc[i]['context'] for i in index]\n",
    "        \n",
    "        # for from menu\n",
    "        ptr, start_i = navList[0], None\n",
    "        for i in range(len(navList)):\n",
    "            if navList[i] == \"/\" and start_i is None:\n",
    "                start_i = i\n",
    "            elif navList[i] == \"/info\" and start_i is not None:\n",
    "                menu_to_item.append([start_i, i])\n",
    "                start_i = None\n",
    "            elif navList[i] != \"/\" and start_i is not None:\n",
    "                menu_to_other.append([start_i, i])\n",
    "                start_i = None\n",
    "            elif i == len(navList)-1:\n",
    "                menu_to_exit.append([start_i, i])\n",
    "                \n",
    "        # for from item\n",
    "        ptr, start_i = navList[0], None\n",
    "        for i in range(len(navList)):\n",
    "            if navList[i] == \"/info\" and start_i is None:\n",
    "                start_i = i\n",
    "            elif navList[i] == \"/\" and start_i is not None:\n",
    "                item_to_menu.append([start_i, i])\n",
    "                start_i = None\n",
    "            elif navList[i] != \"/info\" and start_i is not None:\n",
    "                item_to_other.append([start_i, i])\n",
    "                start_i = None\n",
    "            elif i == len(navList)-1:\n",
    "                item_to_exit.append([start_i, i])\n",
    "                \n",
    "        # measure and store\n",
    "        menu_to_item_count += len(menu_to_item)\n",
    "        item_to_menu_count += len(item_to_menu)\n",
    "        menu_to_other_count += len(menu_to_other)\n",
    "        item_to_other_count += len(item_to_other)\n",
    "        menu_to_exit_count += len(menu_to_exit)\n",
    "        item_to_exit_count += len(item_to_exit)\n",
    "        for [i,j] in menu_to_item:\n",
    "            dt_i, dt_j = df.loc[index[i]]['dt'], df.loc[index[j]]['dt']\n",
    "            dt_i = datetime.strptime(dt_i.split(\".\")[0], '%Y-%m-%d %H:%M:%S')\n",
    "            dt_j = datetime.strptime(dt_j.split(\".\")[0], '%Y-%m-%d %H:%M:%S')\n",
    "            menu_dur.append(int((dt_j-dt_i).total_seconds()))\n",
    "        for [i,j] in item_to_menu:\n",
    "            dt_i, dt_j = df.loc[index[i]]['dt'], df.loc[index[j]]['dt']\n",
    "            dt_i = datetime.strptime(dt_i.split(\".\")[0], '%Y-%m-%d %H:%M:%S')\n",
    "            dt_j = datetime.strptime(dt_j.split(\".\")[0], '%Y-%m-%d %H:%M:%S')\n",
    "            item_dur.append(int((dt_j-dt_i).total_seconds()))\n",
    "    return menu_dur, item_dur, menu_to_item_count, item_to_menu_count, menu_to_other_count, item_to_other_count, menu_to_exit_count, item_to_exit_count"
   ]
  },
  {
   "cell_type": "code",
   "execution_count": 68,
   "metadata": {
    "ExecuteTime": {
     "end_time": "2022-10-11T08:39:46.522279Z",
     "start_time": "2022-10-11T08:39:46.361133Z"
    }
   },
   "outputs": [
    {
     "name": "stdout",
     "output_type": "stream",
     "text": [
      "active:\n",
      "menu item count: 29, item menu count: 18\n",
      "menu other count: 85, item other count: 7\n",
      "menu exit count: 28, item exit count: 56\n",
      "menu dur: 158.13793103448276, item dur: 70.94444444444444\n",
      "non active:\n",
      "menu item count: 9, item menu count: 3\n",
      "menu other count: 64, item other count: 6\n",
      "menu exit count: 19, item exit count: 79\n",
      "menu dur: 21.333333333333332, item dur: 14.666666666666666\n"
     ]
    }
   ],
   "source": [
    "menu_dur, item_dur, menu_item_count, item_menu_count, menu_other_count, item_other_count, menu_exit_count, item_exit_count = finite_state_data(df[(df['is-active'] == True)])\n",
    "print(\"active:\")\n",
    "print(\"menu item count: {}, item menu count: {}\".format(menu_item_count, item_menu_count))\n",
    "print(\"menu other count: {}, item other count: {}\".format(menu_other_count, item_other_count))\n",
    "print(\"menu exit count: {}, item exit count: {}\".format(menu_exit_count, item_exit_count))\n",
    "print(\"menu dur: {}, item dur: {}\".format(np.mean(menu_dur), np.mean(item_dur)))\n",
    "\n",
    "menu_dur, item_dur, menu_item_count, item_menu_count, menu_other_count, item_other_count, menu_exit_count, item_exit_count = finite_state_data(df[(df['is-active'] == False)])\n",
    "print(\"non active:\")\n",
    "print(\"menu item count: {}, item menu count: {}\".format(menu_item_count, item_menu_count))\n",
    "print(\"menu other count: {}, item other count: {}\".format(menu_other_count, item_other_count))\n",
    "print(\"menu exit count: {}, item exit count: {}\".format(menu_exit_count, item_exit_count))\n",
    "print(\"menu dur: {}, item dur: {}\".format(np.mean(menu_dur), np.mean(item_dur)))"
   ]
  },
  {
   "cell_type": "code",
   "execution_count": null,
   "metadata": {
    "hide_input": false
   },
   "outputs": [],
   "source": []
  }
 ],
 "metadata": {
  "kernelspec": {
   "display_name": "Python 3 (ipykernel)",
   "language": "python",
   "name": "python3"
  },
  "language_info": {
   "codemirror_mode": {
    "name": "ipython",
    "version": 3
   },
   "file_extension": ".py",
   "mimetype": "text/x-python",
   "name": "python",
   "nbconvert_exporter": "python",
   "pygments_lexer": "ipython3",
   "version": "3.9.13"
  },
  "latex_envs": {
   "LaTeX_envs_menu_present": true,
   "autoclose": false,
   "autocomplete": true,
   "bibliofile": "biblio.bib",
   "cite_by": "apalike",
   "current_citInitial": 1,
   "eqLabelWithNumbers": true,
   "eqNumInitial": 1,
   "hotkeys": {
    "equation": "Ctrl-E",
    "itemize": "Ctrl-I"
   },
   "labels_anchors": false,
   "latex_user_defs": false,
   "report_style_numbering": false,
   "user_envs_cfg": false
  }
 },
 "nbformat": 4,
 "nbformat_minor": 4
}
